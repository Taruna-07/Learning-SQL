{
 "cells": [
  {
   "cell_type": "markdown",
   "id": "92166dbc",
   "metadata": {
    "papermill": {
     "duration": 0.003777,
     "end_time": "2025-01-15T01:31:56.068497",
     "exception": false,
     "start_time": "2025-01-15T01:31:56.064720",
     "status": "completed"
    },
    "tags": []
   },
   "source": [
    "**This notebook is an exercise in the [SQL](https://www.kaggle.com/learn/intro-to-sql) course.  You can reference the tutorial at [this link](https://www.kaggle.com/dansbecker/order-by).**\n",
    "\n",
    "---\n"
   ]
  },
  {
   "cell_type": "markdown",
   "id": "48028a69",
   "metadata": {
    "papermill": {
     "duration": 0.002854,
     "end_time": "2025-01-15T01:31:56.074836",
     "exception": false,
     "start_time": "2025-01-15T01:31:56.071982",
     "status": "completed"
    },
    "tags": []
   },
   "source": [
    "# Introduction\n",
    "\n",
    "You've built up your SQL skills enough that the remaining hands-on exercises will use different datasets than you see in the explanations. If you need to get to know a new dataset, you can run a couple of **SELECT** queries to extract and review the data you need. \n",
    "\n",
    "The next exercises are also more challenging than what you've done so far. Don't worry, you are ready for it!\n",
    "\n",
    "Run the code in the following cell to get everything set up:"
   ]
  },
  {
   "cell_type": "code",
   "execution_count": 1,
   "id": "b1be2a49",
   "metadata": {
    "execution": {
     "iopub.execute_input": "2025-01-15T01:31:56.082429Z",
     "iopub.status.busy": "2025-01-15T01:31:56.082024Z",
     "iopub.status.idle": "2025-01-15T01:32:14.391085Z",
     "shell.execute_reply": "2025-01-15T01:32:14.389902Z"
    },
    "papermill": {
     "duration": 18.31493,
     "end_time": "2025-01-15T01:32:14.392865",
     "exception": false,
     "start_time": "2025-01-15T01:31:56.077935",
     "status": "completed"
    },
    "tags": []
   },
   "outputs": [
    {
     "name": "stdout",
     "output_type": "stream",
     "text": [
      "Using Kaggle's public dataset BigQuery integration.\n"
     ]
    },
    {
     "name": "stderr",
     "output_type": "stream",
     "text": [
      "/usr/local/lib/python3.10/dist-packages/google/cloud/bigquery/table.py:1727: UserWarning: BigQuery Storage module not found, fetch data with the REST endpoint instead.\n",
      "  warnings.warn(\n"
     ]
    },
    {
     "name": "stdout",
     "output_type": "stream",
     "text": [
      "Setup Complete\n"
     ]
    }
   ],
   "source": [
    "# Set up feedback system\n",
    "from learntools.core import binder\n",
    "binder.bind(globals())\n",
    "from learntools.sql.ex4 import *\n",
    "print(\"Setup Complete\")"
   ]
  },
  {
   "cell_type": "markdown",
   "id": "1da31d8b",
   "metadata": {
    "papermill": {
     "duration": 0.003238,
     "end_time": "2025-01-15T01:32:14.399814",
     "exception": false,
     "start_time": "2025-01-15T01:32:14.396576",
     "status": "completed"
    },
    "tags": []
   },
   "source": [
    "The World Bank has made tons of interesting education data available through BigQuery. Run the following cell to see the first few rows of the `international_education` table from the `world_bank_intl_education` dataset."
   ]
  },
  {
   "cell_type": "code",
   "execution_count": 2,
   "id": "55c10dd0",
   "metadata": {
    "execution": {
     "iopub.execute_input": "2025-01-15T01:32:14.408379Z",
     "iopub.status.busy": "2025-01-15T01:32:14.407809Z",
     "iopub.status.idle": "2025-01-15T01:32:17.718241Z",
     "shell.execute_reply": "2025-01-15T01:32:17.717013Z"
    },
    "papermill": {
     "duration": 3.317091,
     "end_time": "2025-01-15T01:32:17.720462",
     "exception": false,
     "start_time": "2025-01-15T01:32:14.403371",
     "status": "completed"
    },
    "tags": []
   },
   "outputs": [
    {
     "name": "stdout",
     "output_type": "stream",
     "text": [
      "Using Kaggle's public dataset BigQuery integration.\n"
     ]
    },
    {
     "data": {
      "text/html": [
       "<div>\n",
       "<style scoped>\n",
       "    .dataframe tbody tr th:only-of-type {\n",
       "        vertical-align: middle;\n",
       "    }\n",
       "\n",
       "    .dataframe tbody tr th {\n",
       "        vertical-align: top;\n",
       "    }\n",
       "\n",
       "    .dataframe thead th {\n",
       "        text-align: right;\n",
       "    }\n",
       "</style>\n",
       "<table border=\"1\" class=\"dataframe\">\n",
       "  <thead>\n",
       "    <tr style=\"text-align: right;\">\n",
       "      <th></th>\n",
       "      <th>country_name</th>\n",
       "      <th>country_code</th>\n",
       "      <th>indicator_name</th>\n",
       "      <th>indicator_code</th>\n",
       "      <th>value</th>\n",
       "      <th>year</th>\n",
       "    </tr>\n",
       "  </thead>\n",
       "  <tbody>\n",
       "    <tr>\n",
       "      <th>0</th>\n",
       "      <td>Chad</td>\n",
       "      <td>TCD</td>\n",
       "      <td>Enrolment in lower secondary education, both s...</td>\n",
       "      <td>UIS.E.2</td>\n",
       "      <td>321921.0</td>\n",
       "      <td>2012</td>\n",
       "    </tr>\n",
       "    <tr>\n",
       "      <th>1</th>\n",
       "      <td>Chad</td>\n",
       "      <td>TCD</td>\n",
       "      <td>Enrolment in upper secondary education, both s...</td>\n",
       "      <td>UIS.E.3</td>\n",
       "      <td>68809.0</td>\n",
       "      <td>2006</td>\n",
       "    </tr>\n",
       "    <tr>\n",
       "      <th>2</th>\n",
       "      <td>Chad</td>\n",
       "      <td>TCD</td>\n",
       "      <td>Enrolment in upper secondary education, both s...</td>\n",
       "      <td>UIS.E.3</td>\n",
       "      <td>30551.0</td>\n",
       "      <td>1999</td>\n",
       "    </tr>\n",
       "    <tr>\n",
       "      <th>3</th>\n",
       "      <td>Chad</td>\n",
       "      <td>TCD</td>\n",
       "      <td>Enrolment in upper secondary education, both s...</td>\n",
       "      <td>UIS.E.3</td>\n",
       "      <td>79784.0</td>\n",
       "      <td>2007</td>\n",
       "    </tr>\n",
       "    <tr>\n",
       "      <th>4</th>\n",
       "      <td>Chad</td>\n",
       "      <td>TCD</td>\n",
       "      <td>Repeaters in primary education, all grades, bo...</td>\n",
       "      <td>UIS.R.1</td>\n",
       "      <td>282699.0</td>\n",
       "      <td>2006</td>\n",
       "    </tr>\n",
       "  </tbody>\n",
       "</table>\n",
       "</div>"
      ],
      "text/plain": [
       "  country_name country_code  \\\n",
       "0         Chad          TCD   \n",
       "1         Chad          TCD   \n",
       "2         Chad          TCD   \n",
       "3         Chad          TCD   \n",
       "4         Chad          TCD   \n",
       "\n",
       "                                      indicator_name indicator_code     value  \\\n",
       "0  Enrolment in lower secondary education, both s...        UIS.E.2  321921.0   \n",
       "1  Enrolment in upper secondary education, both s...        UIS.E.3   68809.0   \n",
       "2  Enrolment in upper secondary education, both s...        UIS.E.3   30551.0   \n",
       "3  Enrolment in upper secondary education, both s...        UIS.E.3   79784.0   \n",
       "4  Repeaters in primary education, all grades, bo...        UIS.R.1  282699.0   \n",
       "\n",
       "   year  \n",
       "0  2012  \n",
       "1  2006  \n",
       "2  1999  \n",
       "3  2007  \n",
       "4  2006  "
      ]
     },
     "execution_count": 2,
     "metadata": {},
     "output_type": "execute_result"
    }
   ],
   "source": [
    "from google.cloud import bigquery\n",
    "\n",
    "# Create a \"Client\" object\n",
    "client = bigquery.Client()\n",
    "\n",
    "# Construct a reference to the \"world_bank_intl_education\" dataset\n",
    "dataset_ref = client.dataset(\"world_bank_intl_education\", project=\"bigquery-public-data\")\n",
    "\n",
    "# API request - fetch the dataset\n",
    "dataset = client.get_dataset(dataset_ref)\n",
    "\n",
    "# Construct a reference to the \"international_education\" table\n",
    "table_ref = dataset_ref.table(\"international_education\")\n",
    "\n",
    "# API request - fetch the table\n",
    "table = client.get_table(table_ref)\n",
    "\n",
    "# Preview the first five lines of the \"international_education\" table\n",
    "client.list_rows(table, max_results=5).to_dataframe()"
   ]
  },
  {
   "cell_type": "markdown",
   "id": "4a803dcf",
   "metadata": {
    "papermill": {
     "duration": 0.003662,
     "end_time": "2025-01-15T01:32:17.728714",
     "exception": false,
     "start_time": "2025-01-15T01:32:17.725052",
     "status": "completed"
    },
    "tags": []
   },
   "source": [
    "# Exercises\n",
    "\n",
    "The value in the `indicator_code` column describes what type of data is shown in a given row.  \n",
    "\n",
    "One interesting indicator code is `SE.XPD.TOTL.GD.ZS`, which corresponds to \"Government expenditure on education as % of GDP (%)\".\n",
    "\n",
    "### 1) Government expenditure on education\n",
    "\n",
    "Which countries spend the largest fraction of GDP on education?  \n",
    "\n",
    "To answer this question, consider only the rows in the dataset corresponding to indicator code `SE.XPD.TOTL.GD.ZS`, and write a query that returns the average value in the `value` column for each country in the dataset between the years 2010-2017 (including 2010 and 2017 in the average). \n",
    "\n",
    "Requirements:\n",
    "- Your results should have the country name rather than the country code. You will have one row for each country.\n",
    "- The aggregate function for average is **AVG()**.  Use the name `avg_ed_spending_pct` for the column created by this aggregation.\n",
    "- Order the results so the countries that spend the largest fraction of GDP on education show up first.\n",
    "\n",
    "In case it's useful to see a sample query, here's a query you saw in the tutorial (using a different dataset):\n",
    "```\n",
    "# Query to find out the number of accidents for each day of the week\n",
    "query = \"\"\"\n",
    "        SELECT COUNT(consecutive_number) AS num_accidents, \n",
    "               EXTRACT(DAYOFWEEK FROM timestamp_of_crash) AS day_of_week\n",
    "        FROM `bigquery-public-data.nhtsa_traffic_fatalities.accident_2015`\n",
    "        GROUP BY day_of_week\n",
    "        ORDER BY num_accidents DESC\n",
    "        \"\"\"\n",
    "```"
   ]
  },
  {
   "cell_type": "code",
   "execution_count": 3,
   "id": "8f89f3b2",
   "metadata": {
    "execution": {
     "iopub.execute_input": "2025-01-15T01:32:17.738067Z",
     "iopub.status.busy": "2025-01-15T01:32:17.737735Z",
     "iopub.status.idle": "2025-01-15T01:32:19.800552Z",
     "shell.execute_reply": "2025-01-15T01:32:19.799555Z"
    },
    "papermill": {
     "duration": 2.069624,
     "end_time": "2025-01-15T01:32:19.802512",
     "exception": false,
     "start_time": "2025-01-15T01:32:17.732888",
     "status": "completed"
    },
    "tags": []
   },
   "outputs": [
    {
     "name": "stderr",
     "output_type": "stream",
     "text": [
      "/usr/local/lib/python3.10/dist-packages/google/cloud/bigquery/table.py:1727: UserWarning: BigQuery Storage module not found, fetch data with the REST endpoint instead.\n",
      "  warnings.warn(\n"
     ]
    },
    {
     "name": "stdout",
     "output_type": "stream",
     "text": [
      "            country_name  avg_ed_spending_pct\n",
      "0                   Cuba            12.837270\n",
      "1  Micronesia, Fed. Sts.            12.467750\n",
      "2        Solomon Islands            10.001080\n",
      "3                Moldova             8.372153\n",
      "4                Namibia             8.349610\n"
     ]
    },
    {
     "data": {
      "application/javascript": [
       "parent.postMessage({\"jupyterEvent\": \"custom.exercise_interaction\", \"data\": {\"outcomeType\": 1, \"valueTowardsCompletion\": 0.5, \"interactionType\": 1, \"questionType\": 2, \"questionId\": \"1_EducationSpending\", \"learnToolsVersion\": \"0.3.4\", \"failureMessage\": \"\", \"exceptionClass\": \"\", \"trace\": \"\"}}, \"*\")"
      ],
      "text/plain": [
       "<IPython.core.display.Javascript object>"
      ]
     },
     "metadata": {},
     "output_type": "display_data"
    },
    {
     "data": {
      "text/markdown": [
       "<span style=\"color:#33cc33\">Correct</span>"
      ],
      "text/plain": [
       "Correct"
      ]
     },
     "metadata": {},
     "output_type": "display_data"
    }
   ],
   "source": [
    "# Your code goes here\n",
    "country_spend_pct_query = \"\"\"\n",
    "                          SELECT country_name, AVG(value) AS avg_ed_spending_pct\n",
    "                          FROM `bigquery-public-data.world_bank_intl_education.international_education`\n",
    "                          WHERE indicator_code = 'SE.XPD.TOTL.GD.ZS' and (year >= 2010 and year <= 2017)\n",
    "                          GROUP BY country_name\n",
    "                          ORDER BY avg_ed_spending_pct DESC\n",
    "                          \"\"\"\n",
    "\n",
    "# Set up the query (cancel the query if it would use too much of \n",
    "# your quota, with the limit set to 1 GB)\n",
    "safe_config = bigquery.QueryJobConfig(maximum_bytes_billed=10**10)\n",
    "country_spend_pct_query_job = client.query(country_spend_pct_query, job_config=safe_config)\n",
    "\n",
    "# API request - run the query, and return a pandas DataFrame\n",
    "country_spending_results = country_spend_pct_query_job.to_dataframe()\n",
    "\n",
    "# View top few rows of results\n",
    "print(country_spending_results.head())\n",
    "\n",
    "# Check your answer\n",
    "q_1.check()"
   ]
  },
  {
   "cell_type": "markdown",
   "id": "420a6c74",
   "metadata": {
    "papermill": {
     "duration": 0.004002,
     "end_time": "2025-01-15T01:32:19.811385",
     "exception": false,
     "start_time": "2025-01-15T01:32:19.807383",
     "status": "completed"
    },
    "tags": []
   },
   "source": [
    "For a hint or the solution, uncomment the appropriate line below."
   ]
  },
  {
   "cell_type": "code",
   "execution_count": 4,
   "id": "fe70591a",
   "metadata": {
    "execution": {
     "iopub.execute_input": "2025-01-15T01:32:19.820688Z",
     "iopub.status.busy": "2025-01-15T01:32:19.820346Z",
     "iopub.status.idle": "2025-01-15T01:32:19.823956Z",
     "shell.execute_reply": "2025-01-15T01:32:19.823058Z"
    },
    "papermill": {
     "duration": 0.010195,
     "end_time": "2025-01-15T01:32:19.825646",
     "exception": false,
     "start_time": "2025-01-15T01:32:19.815451",
     "status": "completed"
    },
    "tags": []
   },
   "outputs": [],
   "source": [
    "#q_1.hint()\n",
    "#q_1.solution()"
   ]
  },
  {
   "cell_type": "markdown",
   "id": "5a9e797b",
   "metadata": {
    "papermill": {
     "duration": 0.003791,
     "end_time": "2025-01-15T01:32:19.833825",
     "exception": false,
     "start_time": "2025-01-15T01:32:19.830034",
     "status": "completed"
    },
    "tags": []
   },
   "source": [
    "### 2) Identify interesting codes to explore\n",
    "\n",
    "The last question started by telling you to focus on rows with the code `SE.XPD.TOTL.GD.ZS`. But how would you find more interesting indicator codes to explore?\n",
    "\n",
    "There are 1000s of codes in the dataset, so it would be time consuming to review them all. But many codes are available for only a few countries. When browsing the options for different codes, you might restrict yourself to codes that are reported by many countries.\n",
    "\n",
    "Write a query below that selects the indicator code and indicator name for all codes with at least 175 rows in the year 2016.\n",
    "\n",
    "Requirements:\n",
    "- You should have one row for each indicator code.\n",
    "- The columns in your results should be called `indicator_code`, `indicator_name`, and `num_rows`.\n",
    "- Only select codes with 175 or more rows in the raw database (exactly 175 rows would be included).\n",
    "- To get both the `indicator_code` and `indicator_name` in your resulting DataFrame, you need to include both in your **SELECT** statement (in addition to a **COUNT()** aggregation). This requires you to include both in your **GROUP BY** clause.\n",
    "- Order from results most frequent to least frequent."
   ]
  },
  {
   "cell_type": "code",
   "execution_count": 5,
   "id": "c6a655c6",
   "metadata": {
    "execution": {
     "iopub.execute_input": "2025-01-15T01:32:19.843247Z",
     "iopub.status.busy": "2025-01-15T01:32:19.842817Z",
     "iopub.status.idle": "2025-01-15T01:32:21.838008Z",
     "shell.execute_reply": "2025-01-15T01:32:21.837228Z"
    },
    "papermill": {
     "duration": 2.001689,
     "end_time": "2025-01-15T01:32:21.839583",
     "exception": false,
     "start_time": "2025-01-15T01:32:19.837894",
     "status": "completed"
    },
    "tags": []
   },
   "outputs": [
    {
     "name": "stderr",
     "output_type": "stream",
     "text": [
      "/usr/local/lib/python3.10/dist-packages/google/cloud/bigquery/table.py:1727: UserWarning: BigQuery Storage module not found, fetch data with the REST endpoint instead.\n",
      "  warnings.warn(\n"
     ]
    },
    {
     "name": "stdout",
     "output_type": "stream",
     "text": [
      "   indicator_code                                     indicator_name  num_rows\n",
      "0     SE.SEC.DURS  Theoretical duration of secondary education (y...       175\n",
      "1     UIS.THDUR.0  Theoretical duration of pre-primary education ...       175\n",
      "2  SE.SEC.DURS.UP  Theoretical duration of upper secondary educat...       175\n",
      "3  SE.SEC.DURS.LO  Theoretical duration of lower secondary educat...       175\n",
      "4     SE.SEC.AGES  Official entrance age to lower secondary educa...       175\n"
     ]
    },
    {
     "data": {
      "application/javascript": [
       "parent.postMessage({\"jupyterEvent\": \"custom.exercise_interaction\", \"data\": {\"outcomeType\": 1, \"valueTowardsCompletion\": 0.5, \"interactionType\": 1, \"questionType\": 2, \"questionId\": \"2_FindInterestingCodes\", \"learnToolsVersion\": \"0.3.4\", \"failureMessage\": \"\", \"exceptionClass\": \"\", \"trace\": \"\"}}, \"*\")"
      ],
      "text/plain": [
       "<IPython.core.display.Javascript object>"
      ]
     },
     "metadata": {},
     "output_type": "display_data"
    },
    {
     "data": {
      "text/markdown": [
       "<span style=\"color:#33cc33\">Correct</span>"
      ],
      "text/plain": [
       "Correct"
      ]
     },
     "metadata": {},
     "output_type": "display_data"
    }
   ],
   "source": [
    "# Your code goes here\n",
    "code_count_query = \"\"\"\n",
    "                    SELECT indicator_code, indicator_name, COUNT(1) AS num_rows\n",
    "                    FROM `bigquery-public-data.world_bank_intl_education.international_education`\n",
    "                    WHERE year = 2016\n",
    "                    GROUP BY indicator_code, indicator_name\n",
    "                    HAVING COUNT(1) >= 175\n",
    "                    ORDER BY COUNT(1) ASC\"\"\"\n",
    "\n",
    "# Set up the query\n",
    "safe_config = bigquery.QueryJobConfig(maximum_bytes_billed=10**10)\n",
    "code_count_query_job = client.query(code_count_query, job_config=safe_config)\n",
    "\n",
    "# API request - run the query, and return a pandas DataFrame\n",
    "code_count_results = code_count_query_job.to_dataframe()\n",
    "\n",
    "# View top few rows of results\n",
    "print(code_count_results.head())\n",
    "\n",
    "# Check your answer\n",
    "q_2.check()"
   ]
  },
  {
   "cell_type": "markdown",
   "id": "ee3b6b76",
   "metadata": {
    "papermill": {
     "duration": 0.004,
     "end_time": "2025-01-15T01:32:21.848611",
     "exception": false,
     "start_time": "2025-01-15T01:32:21.844611",
     "status": "completed"
    },
    "tags": []
   },
   "source": [
    "For a hint or the solution, uncomment the appropriate line below."
   ]
  },
  {
   "cell_type": "code",
   "execution_count": 6,
   "id": "77cec5f1",
   "metadata": {
    "execution": {
     "iopub.execute_input": "2025-01-15T01:32:21.858116Z",
     "iopub.status.busy": "2025-01-15T01:32:21.857798Z",
     "iopub.status.idle": "2025-01-15T01:32:21.864822Z",
     "shell.execute_reply": "2025-01-15T01:32:21.863829Z"
    },
    "papermill": {
     "duration": 0.013689,
     "end_time": "2025-01-15T01:32:21.866437",
     "exception": false,
     "start_time": "2025-01-15T01:32:21.852748",
     "status": "completed"
    },
    "tags": []
   },
   "outputs": [
    {
     "data": {
      "application/javascript": [
       "parent.postMessage({\"jupyterEvent\": \"custom.exercise_interaction\", \"data\": {\"interactionType\": 3, \"questionType\": 2, \"questionId\": \"2_FindInterestingCodes\", \"learnToolsVersion\": \"0.3.4\", \"valueTowardsCompletion\": 0.0, \"failureMessage\": \"\", \"exceptionClass\": \"\", \"trace\": \"\", \"outcomeType\": 4}}, \"*\")"
      ],
      "text/plain": [
       "<IPython.core.display.Javascript object>"
      ]
     },
     "metadata": {},
     "output_type": "display_data"
    },
    {
     "data": {
      "text/markdown": [
       "<span style=\"color:#33cc99\">Solution:</span> \n",
       "```python\n",
       "\n",
       "code_count_query = \"\"\"\n",
       "                   SELECT indicator_code, indicator_name, COUNT(1) AS num_rows\n",
       "                   FROM `bigquery-public-data.world_bank_intl_education.international_education`\n",
       "                   WHERE year = 2016\n",
       "                   GROUP BY indicator_name, indicator_code\n",
       "                   HAVING COUNT(1) >= 175\n",
       "                   ORDER BY COUNT(1) DESC\n",
       "                   \"\"\"\n",
       "\n",
       "```"
      ],
      "text/plain": [
       "Solution: \n",
       "```python\n",
       "\n",
       "code_count_query = \"\"\"\n",
       "                   SELECT indicator_code, indicator_name, COUNT(1) AS num_rows\n",
       "                   FROM `bigquery-public-data.world_bank_intl_education.international_education`\n",
       "                   WHERE year = 2016\n",
       "                   GROUP BY indicator_name, indicator_code\n",
       "                   HAVING COUNT(1) >= 175\n",
       "                   ORDER BY COUNT(1) DESC\n",
       "                   \"\"\"\n",
       "\n",
       "```"
      ]
     },
     "metadata": {},
     "output_type": "display_data"
    }
   ],
   "source": [
    "#q_2.hint()\n",
    "q_2.solution()"
   ]
  },
  {
   "cell_type": "markdown",
   "id": "5bf591da",
   "metadata": {
    "papermill": {
     "duration": 0.004281,
     "end_time": "2025-01-15T01:32:21.875520",
     "exception": false,
     "start_time": "2025-01-15T01:32:21.871239",
     "status": "completed"
    },
    "tags": []
   },
   "source": [
    "# Keep Going\n",
    "**[Click here](https://www.kaggle.com/dansbecker/as-with)** to learn how to use **AS** and **WITH** to clean up your code and help you construct more complex queries."
   ]
  },
  {
   "cell_type": "markdown",
   "id": "738f2ef8",
   "metadata": {
    "papermill": {
     "duration": 0.004141,
     "end_time": "2025-01-15T01:32:21.884053",
     "exception": false,
     "start_time": "2025-01-15T01:32:21.879912",
     "status": "completed"
    },
    "tags": []
   },
   "source": [
    "---\n",
    "\n",
    "\n",
    "\n",
    "\n",
    "*Have questions or comments? Visit the [course discussion forum](https://www.kaggle.com/learn/intro-to-sql/discussion) to chat with other learners.*"
   ]
  }
 ],
 "metadata": {
  "kaggle": {
   "accelerator": "none",
   "dataSources": [
    {
     "datasetId": 22951,
     "sourceId": 337528,
     "sourceType": "datasetVersion"
    },
    {
     "datasetId": 5837,
     "sourceId": 337546,
     "sourceType": "datasetVersion"
    }
   ],
   "isGpuEnabled": false,
   "isInternetEnabled": false,
   "language": "python",
   "sourceType": "notebook"
  },
  "kernelspec": {
   "display_name": "Python 3",
   "language": "python",
   "name": "python3"
  },
  "language_info": {
   "codemirror_mode": {
    "name": "ipython",
    "version": 3
   },
   "file_extension": ".py",
   "mimetype": "text/x-python",
   "name": "python",
   "nbconvert_exporter": "python",
   "pygments_lexer": "ipython3",
   "version": "3.10.12"
  },
  "papermill": {
   "default_parameters": {},
   "duration": 29.997808,
   "end_time": "2025-01-15T01:32:23.312274",
   "environment_variables": {},
   "exception": null,
   "input_path": "__notebook__.ipynb",
   "output_path": "__notebook__.ipynb",
   "parameters": {},
   "start_time": "2025-01-15T01:31:53.314466",
   "version": "2.6.0"
  }
 },
 "nbformat": 4,
 "nbformat_minor": 5
}
